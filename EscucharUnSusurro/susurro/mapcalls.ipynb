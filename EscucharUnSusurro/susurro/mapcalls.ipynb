{
 "cells": [
  {
   "cell_type": "markdown",
   "metadata": {},
   "source": [
    "## Visualize collected `geospatial data` on a <span style=\"color:turquoise;\">MAP</span>"
   ]
  },
  {
   "cell_type": "code",
   "execution_count": 36,
   "metadata": {},
   "outputs": [
    {
     "name": "stdout",
     "output_type": "stream",
     "text": [
      "PAP 706139071 KENRZ18020\n",
      "('PAP', 706139071, 'KENRZ18020', 'Harvest')\n",
      "Result is a tuple\n"
     ]
    }
   ],
   "source": [
    "import requests\n",
    "#Define the bldg code service function\n",
    "#ONU\n",
    "#Enter user number\n",
    "num = int(input(\"Please enter a number: \"))\n",
    "def getONU(num):\n",
    "    url = f\"http://105.29.165.253:13000/api/komp_assistant/onu/phone/{num}\"\n",
    "\n",
    "    payload = {}\n",
    "    headers = {\n",
    "    'Authorization': 'Bearer ***REMOVED***'\n",
    "    }\n",
    "\n",
    "    response = requests.request(\"GET\", url, headers=headers, data=payload)\n",
    "\n",
    "    if response.status_code == 200:\n",
    "        data = response.json()\n",
    "        bcode_value = data.get(\"bcode\")\n",
    "        bname_value = data.get(\"bname\")\n",
    "        return bcode_value, bname_value\n",
    "    else:\n",
    "        bcode_value = None\n",
    "        return None\n",
    "\n",
    "def getPAP(num):\n",
    "    url = f\"http://105.29.165.253:13000/api/komp_assistant/phone/{num}\"\n",
    "\n",
    "    payload = {}\n",
    "    headers = {\n",
    "    'Authorization': 'Bearer ***REMOVED***'\n",
    "    }\n",
    "\n",
    "    response = requests.request(\"GET\", url, headers=headers, data=payload)\n",
    "\n",
    "    if response.status_code == 200:\n",
    "        data = response.json()\n",
    "        bcode_value = data.get(\"bcode\")\n",
    "        bname_value = data.get(\"bname\")\n",
    "        return bcode_value, bname_value\n",
    "    else:\n",
    "        bcode_value = None\n",
    "        return None\n",
    "\n",
    "def getbcode(num):\n",
    "    try:\n",
    "        bcode, bname = getPAP(num)\n",
    "        if bcode == None:\n",
    "            bcode = getONU(num)\n",
    "            if bcode == None:\n",
    "                print('Bcode not found for both PAP and ONU')\n",
    "                return 'Not Found'\n",
    "            else:\n",
    "                print('ONU', num, bcode)\n",
    "                return 'ONU', num, bcode, bname\n",
    "        else:\n",
    "            print('PAP', num, bcode)\n",
    "            return 'PAP', num, bcode, bname\n",
    "    except Exception as e:\n",
    "        print('Error: ',e)\n",
    "\n",
    "result = getbcode(num)\n",
    "print(result)\n",
    "if isinstance(result, tuple):\n",
    "    print(\"Result is a tuple\")\n",
    "    router, num, buildingcode, bname = result\n",
    "else:\n",
    "    print(\"Result is not a tuple\")\n",
    "    buildingcode = 'Not Exist'\n"
   ]
  },
  {
   "cell_type": "code",
   "execution_count": 37,
   "metadata": {},
   "outputs": [],
   "source": [
    "#%pip install folium\n",
    "import zipfile\n",
    "import xml.etree.ElementTree as ET\n",
    "import folium\n",
    "\n",
    "with zipfile.ZipFile('./geobank/KCIS Master Map 3010_2023.kmz', 'r') as zip_ref:\n",
    "    zip_ref.extractall('./geobank/')\n",
    "\n",
    "# Parse the .kml file\n",
    "tree = ET.parse('./geobank/doc.kml')\n",
    "root = tree.getroot()"
   ]
  },
  {
   "cell_type": "code",
   "execution_count": 38,
   "metadata": {},
   "outputs": [],
   "source": [
    "for placemark in root.iter('{http://www.opengis.net/kml/2.2}Placemark'):\n",
    "    name = placemark.find('{http://www.opengis.net/kml/2.2}name').text\n",
    "    #print(name)"
   ]
  },
  {
   "cell_type": "code",
   "execution_count": 39,
   "metadata": {},
   "outputs": [
    {
     "name": "stdout",
     "output_type": "stream",
     "text": [
      "KENRZ18020\n",
      "[36.89624276060896, -1.206767622731932, 0.0]\n"
     ]
    }
   ],
   "source": [
    "print(buildingcode)\n",
    "buildingcode = str(buildingcode)\n",
    "for placemark in root.iter('{http://www.opengis.net/kml/2.2}Placemark'):\n",
    "    name = placemark.find('{http://www.opengis.net/kml/2.2}name').text\n",
    "    #print(name)\n",
    "    if buildingcode in name: \n",
    "        coordinates = placemark.find('{http://www.opengis.net/kml/2.2}Point/{http://www.opengis.net/kml/2.2}coordinates').text\n",
    "        # coordinates will be a string in the format \"longitude,latitude,altitude\"\n",
    "        # you can split it into a list of floats using:\n",
    "        coordinates_list = [float(coord) for coord in coordinates.split(',')]\n",
    "        print(coordinates_list)"
   ]
  },
  {
   "cell_type": "code",
   "execution_count": 35,
   "metadata": {},
   "outputs": [],
   "source": [
    "longitude, latitude = coordinates_list[:2]\n",
    "# Create a folium map centered around the coordinates\n",
    "map_object = folium.Map(location=[latitude, longitude], zoom_start=15)\n",
    "\n",
    "# Add a marker to the map\n",
    "folium.Marker(location=[latitude, longitude], popup=f'Contact: {num}, Router Type: {router}, Building: {bname}').add_to(map_object)\n",
    "\n",
    "# Save the map to an HTML file\n",
    "map_object.save('./geobank/map.html')"
   ]
  }
 ],
 "metadata": {
  "kernelspec": {
   "display_name": "env",
   "language": "python",
   "name": "python3"
  },
  "language_info": {
   "codemirror_mode": {
    "name": "ipython",
    "version": 3
   },
   "file_extension": ".py",
   "mimetype": "text/x-python",
   "name": "python",
   "nbconvert_exporter": "python",
   "pygments_lexer": "ipython3",
   "version": "3.11.4"
  }
 },
 "nbformat": 4,
 "nbformat_minor": 2
}
