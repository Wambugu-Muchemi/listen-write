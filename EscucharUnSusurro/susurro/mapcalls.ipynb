{
 "cells": [
  {
   "cell_type": "markdown",
   "metadata": {},
   "source": [
    "## Visualize collected `geospatial data` on a <span style=\"color:turquoise;\">MAP</span>"
   ]
  },
  {
   "cell_type": "code",
   "execution_count": 8,
   "metadata": {},
   "outputs": [
    {
     "name": "stdout",
     "output_type": "stream",
     "text": [
      "ONU 711944445 KENKK03127\n"
     ]
    },
    {
     "data": {
      "text/plain": [
       "('ONU', 711944445, 'KENKK03127')"
      ]
     },
     "execution_count": 8,
     "metadata": {},
     "output_type": "execute_result"
    }
   ],
   "source": [
    "import requests\n",
    "#Define the bldg code service function\n",
    "#ONU\n",
    "#Enter user number\n",
    "num = int(input(\"Please enter a number: \"))\n",
    "def getONU(num):\n",
    "    url = f\"http://105.29.165.253:13000/api/komp_assistant/onu/phone/{num}\"\n",
    "\n",
    "    payload = {}\n",
    "    headers = {\n",
    "    'Authorization': 'Bearer ***REMOVED***'\n",
    "    }\n",
    "\n",
    "    response = requests.request(\"GET\", url, headers=headers, data=payload)\n",
    "\n",
    "    if response.status_code == 200:\n",
    "        data = response.json()\n",
    "        bcode_value = data.get(\"bcode\")\n",
    "        return bcode_value\n",
    "    else:\n",
    "        bcode_value = None\n",
    "        return bcode_value\n",
    "\n",
    "def getPAP(num):\n",
    "    url = f\"http://105.29.165.253:13000/api/komp_assistant/phone/{num}\"\n",
    "\n",
    "    payload = {}\n",
    "    headers = {\n",
    "    'Authorization': 'Bearer ***REMOVED***'\n",
    "    }\n",
    "\n",
    "    response = requests.request(\"GET\", url, headers=headers, data=payload)\n",
    "\n",
    "    if response.status_code == 200:\n",
    "        data = response.json()\n",
    "        bcode_value = data.get(\"bcode\")\n",
    "        return bcode_value\n",
    "    else:\n",
    "        bcode_value = None\n",
    "        return bcode_value\n",
    "\n",
    "def getbcode(num):\n",
    "    try:\n",
    "        bcode = getPAP(num)\n",
    "        if bcode == None:\n",
    "            bcode = getONU(num)\n",
    "            if bcode == None:\n",
    "                print('Bcode not found for both PAP and ONU')\n",
    "                return 'Not Found'\n",
    "            else:\n",
    "                print('ONU', num, bcode)\n",
    "                return 'ONU', num, bcode\n",
    "        else:\n",
    "            print('PAP', num, bcode)\n",
    "            return 'PAP', num, bcode\n",
    "    except Exception as e:\n",
    "        print('Error: ',e)\n",
    "\n",
    "getbcode(num)\n"
   ]
  }
 ],
 "metadata": {
  "kernelspec": {
   "display_name": "env",
   "language": "python",
   "name": "python3"
  },
  "language_info": {
   "codemirror_mode": {
    "name": "ipython",
    "version": 3
   },
   "file_extension": ".py",
   "mimetype": "text/x-python",
   "name": "python",
   "nbconvert_exporter": "python",
   "pygments_lexer": "ipython3",
   "version": "3.11.4"
  }
 },
 "nbformat": 4,
 "nbformat_minor": 2
}
