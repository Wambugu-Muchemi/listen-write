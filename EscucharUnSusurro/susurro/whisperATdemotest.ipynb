{
 "cells": [
  {
   "cell_type": "code",
   "execution_count": 2,
   "metadata": {},
   "outputs": [
    {
     "name": "stdout",
     "output_type": "stream",
     "text": [
      "Collecting gradio_client\n",
      "  Downloading gradio_client-0.6.1-py3-none-any.whl (299 kB)\n",
      "\u001b[2K     \u001b[90m━━━━━━━━━━━━━━━━━━━━━━━━━━━━━━━━━━━━━\u001b[0m \u001b[32m299.2/299.2 kB\u001b[0m \u001b[31m955.6 kB/s\u001b[0m eta \u001b[36m0:00:00\u001b[0ma \u001b[36m0:00:01\u001b[0m\n",
      "\u001b[?25hRequirement already satisfied: fsspec in ./env/lib/python3.11/site-packages (from gradio_client) (2023.9.2)\n",
      "Collecting httpx\n",
      "  Using cached httpx-0.25.0-py3-none-any.whl (75 kB)\n",
      "Requirement already satisfied: huggingface-hub>=0.13.0 in ./env/lib/python3.11/site-packages (from gradio_client) (0.17.3)\n",
      "Requirement already satisfied: packaging in ./env/lib/python3.11/site-packages (from gradio_client) (23.2)\n",
      "Requirement already satisfied: requests~=2.0 in ./env/lib/python3.11/site-packages (from gradio_client) (2.31.0)\n",
      "Requirement already satisfied: typing-extensions~=4.0 in ./env/lib/python3.11/site-packages (from gradio_client) (4.8.0)\n",
      "Collecting websockets<12.0,>=10.0\n",
      "  Using cached websockets-11.0.3-cp311-cp311-manylinux_2_5_x86_64.manylinux1_x86_64.manylinux_2_17_x86_64.manylinux2014_x86_64.whl (130 kB)\n",
      "Requirement already satisfied: filelock in ./env/lib/python3.11/site-packages (from huggingface-hub>=0.13.0->gradio_client) (3.12.4)\n",
      "Requirement already satisfied: tqdm>=4.42.1 in ./env/lib/python3.11/site-packages (from huggingface-hub>=0.13.0->gradio_client) (4.66.1)\n",
      "Requirement already satisfied: pyyaml>=5.1 in ./env/lib/python3.11/site-packages (from huggingface-hub>=0.13.0->gradio_client) (6.0.1)\n",
      "Requirement already satisfied: charset-normalizer<4,>=2 in ./env/lib/python3.11/site-packages (from requests~=2.0->gradio_client) (3.3.0)\n",
      "Requirement already satisfied: idna<4,>=2.5 in ./env/lib/python3.11/site-packages (from requests~=2.0->gradio_client) (3.4)\n",
      "Requirement already satisfied: urllib3<3,>=1.21.1 in ./env/lib/python3.11/site-packages (from requests~=2.0->gradio_client) (2.0.7)\n",
      "Requirement already satisfied: certifi>=2017.4.17 in ./env/lib/python3.11/site-packages (from requests~=2.0->gradio_client) (2023.7.22)\n",
      "Collecting httpcore<0.19.0,>=0.18.0\n",
      "  Using cached httpcore-0.18.0-py3-none-any.whl (76 kB)\n",
      "Requirement already satisfied: sniffio in ./env/lib/python3.11/site-packages (from httpx->gradio_client) (1.3.0)\n",
      "Requirement already satisfied: anyio<5.0,>=3.0 in ./env/lib/python3.11/site-packages (from httpcore<0.19.0,>=0.18.0->httpx->gradio_client) (3.7.1)\n",
      "Collecting h11<0.15,>=0.13\n",
      "  Using cached h11-0.14.0-py3-none-any.whl (58 kB)\n",
      "Installing collected packages: websockets, h11, httpcore, httpx, gradio_client\n",
      "Successfully installed gradio_client-0.6.1 h11-0.14.0 httpcore-0.18.0 httpx-0.25.0 websockets-11.0.3\n",
      "Note: you may need to restart the kernel to use updated packages.\n"
     ]
    }
   ],
   "source": [
    "%pip install gradio_client"
   ]
  },
  {
   "cell_type": "code",
   "execution_count": 5,
   "metadata": {},
   "outputs": [
    {
     "name": "stdout",
     "output_type": "stream",
     "text": [
      "Loaded as API: https://yuangongfdu-whisper-at.hf.space/ ✔\n"
     ]
    },
    {
     "ename": "ValueError",
     "evalue": "Expected 7 arguments, got 6",
     "output_type": "error",
     "traceback": [
      "\u001b[0;31m---------------------------------------------------------------------------\u001b[0m",
      "\u001b[0;31mValueError\u001b[0m                                Traceback (most recent call last)",
      "\u001b[1;32m/home/wambugumuchemi/Projects/listen-write/whisperATdemotest.ipynb Cell 2\u001b[0m line \u001b[0;36m4\n\u001b[1;32m      <a href='vscode-notebook-cell:/home/wambugumuchemi/Projects/listen-write/whisperATdemotest.ipynb#W1sZmlsZQ%3D%3D?line=0'>1</a>\u001b[0m \u001b[39mfrom\u001b[39;00m \u001b[39mgradio_client\u001b[39;00m \u001b[39mimport\u001b[39;00m Client\n\u001b[1;32m      <a href='vscode-notebook-cell:/home/wambugumuchemi/Projects/listen-write/whisperATdemotest.ipynb#W1sZmlsZQ%3D%3D?line=2'>3</a>\u001b[0m client \u001b[39m=\u001b[39m Client(\u001b[39m\"\u001b[39m\u001b[39mhttps://yuangongfdu-whisper-at.hf.space/\u001b[39m\u001b[39m\"\u001b[39m)\n\u001b[0;32m----> <a href='vscode-notebook-cell:/home/wambugumuchemi/Projects/listen-write/whisperATdemotest.ipynb#W1sZmlsZQ%3D%3D?line=3'>4</a>\u001b[0m result \u001b[39m=\u001b[39m client\u001b[39m.\u001b[39;49mpredict(\n\u001b[1;32m      <a href='vscode-notebook-cell:/home/wambugumuchemi/Projects/listen-write/whisperATdemotest.ipynb#W1sZmlsZQ%3D%3D?line=4'>5</a>\u001b[0m \t\t\t\t\u001b[39m\"\u001b[39;49m\u001b[39mhttps://github.com/gradio-app/gradio/raw/main/test/test_files/audio_sample.wav\u001b[39;49m\u001b[39m\"\u001b[39;49m,\t\u001b[39m# str (filepath or URL to file) in 'Please either upload an audio file or record using the microphone.' Audio component\u001b[39;49;00m\n\u001b[1;32m      <a href='vscode-notebook-cell:/home/wambugumuchemi/Projects/listen-write/whisperATdemotest.ipynb#W1sZmlsZQ%3D%3D?line=5'>6</a>\u001b[0m \t\t\t\t\u001b[39m# \"https://github.com/gradio-app/gradio/raw/main/test/test_files/audio_sample.wav\",\t# str (filepath or URL to file) in 'audio_path_t' Audio component\u001b[39;49;00m\n\u001b[1;32m      <a href='vscode-notebook-cell:/home/wambugumuchemi/Projects/listen-write/whisperATdemotest.ipynb#W1sZmlsZQ%3D%3D?line=6'>7</a>\u001b[0m                 \u001b[39m#\"http://197.248.0.197:8080/1261d51bb09447f3f21f4f4d07955d02.mp3\"\u001b[39;49;00m\n\u001b[1;32m      <a href='vscode-notebook-cell:/home/wambugumuchemi/Projects/listen-write/whisperATdemotest.ipynb#W1sZmlsZQ%3D%3D?line=7'>8</a>\u001b[0m \t\t\t\t\u001b[39m\"\u001b[39;49m\u001b[39mtiny\u001b[39;49m\u001b[39m\"\u001b[39;49m,\t\u001b[39m# str  in 'Model size' Radio component\u001b[39;49;00m\n\u001b[1;32m      <a href='vscode-notebook-cell:/home/wambugumuchemi/Projects/listen-write/whisperATdemotest.ipynb#W1sZmlsZQ%3D%3D?line=8'>9</a>\u001b[0m \t\t\t\t\u001b[39m\"\u001b[39;49m\u001b[39mAuto Detection\u001b[39;49m\u001b[39m\"\u001b[39;49m,\t\u001b[39m# str  in 'Language' Radio component\u001b[39;49;00m\n\u001b[1;32m     <a href='vscode-notebook-cell:/home/wambugumuchemi/Projects/listen-write/whisperATdemotest.ipynb#W1sZmlsZQ%3D%3D?line=9'>10</a>\u001b[0m \t\t\t\t\u001b[39m1\u001b[39;49m,\t\u001b[39m# int | float (numeric value between 1 and 10) in 'Top-K' Slider component\u001b[39;49;00m\n\u001b[1;32m     <a href='vscode-notebook-cell:/home/wambugumuchemi/Projects/listen-write/whisperATdemotest.ipynb#W1sZmlsZQ%3D%3D?line=10'>11</a>\u001b[0m \t\t\t\t\u001b[39m-\u001b[39;49m\u001b[39m10\u001b[39;49m,\t\u001b[39m# int | float (numeric value between -10 and 0) in 'Prediction Threshold' Slider component\u001b[39;49;00m\n\u001b[1;32m     <a href='vscode-notebook-cell:/home/wambugumuchemi/Projects/listen-write/whisperATdemotest.ipynb#W1sZmlsZQ%3D%3D?line=11'>12</a>\u001b[0m \t\t\t\t\u001b[39m\"\u001b[39;49m\u001b[39mHowdy!\u001b[39;49m\u001b[39m\"\u001b[39;49m,\t\u001b[39m# str  in 'Time Resolution in Seconds (Must be must be an integer multiple of 0.4, e.g., 0.4, 2, 10)' Textbox component\u001b[39;49;00m\n\u001b[1;32m     <a href='vscode-notebook-cell:/home/wambugumuchemi/Projects/listen-write/whisperATdemotest.ipynb#W1sZmlsZQ%3D%3D?line=12'>13</a>\u001b[0m \t\t\t\tapi_name\u001b[39m=\u001b[39;49m\u001b[39m\"\u001b[39;49m\u001b[39m/predict\u001b[39;49m\u001b[39m\"\u001b[39;49m\n\u001b[1;32m     <a href='vscode-notebook-cell:/home/wambugumuchemi/Projects/listen-write/whisperATdemotest.ipynb#W1sZmlsZQ%3D%3D?line=13'>14</a>\u001b[0m )\n\u001b[1;32m     <a href='vscode-notebook-cell:/home/wambugumuchemi/Projects/listen-write/whisperATdemotest.ipynb#W1sZmlsZQ%3D%3D?line=14'>15</a>\u001b[0m \u001b[39mprint\u001b[39m(result)\n",
      "File \u001b[0;32m~/Projects/listen-write/env/lib/python3.11/site-packages/gradio_client/client.py:292\u001b[0m, in \u001b[0;36mClient.predict\u001b[0;34m(self, api_name, fn_index, *args)\u001b[0m\n\u001b[1;32m    288\u001b[0m \u001b[39mif\u001b[39;00m \u001b[39mself\u001b[39m\u001b[39m.\u001b[39mendpoints[inferred_fn_index]\u001b[39m.\u001b[39mis_continuous:\n\u001b[1;32m    289\u001b[0m     \u001b[39mraise\u001b[39;00m \u001b[39mValueError\u001b[39;00m(\n\u001b[1;32m    290\u001b[0m         \u001b[39m\"\u001b[39m\u001b[39mCannot call predict on this function as it may run forever. Use submit instead.\u001b[39m\u001b[39m\"\u001b[39m\n\u001b[1;32m    291\u001b[0m     )\n\u001b[0;32m--> 292\u001b[0m \u001b[39mreturn\u001b[39;00m \u001b[39mself\u001b[39;49m\u001b[39m.\u001b[39;49msubmit(\u001b[39m*\u001b[39;49margs, api_name\u001b[39m=\u001b[39;49mapi_name, fn_index\u001b[39m=\u001b[39;49mfn_index)\u001b[39m.\u001b[39;49mresult()\n",
      "File \u001b[0;32m~/Projects/listen-write/env/lib/python3.11/site-packages/gradio_client/client.py:1131\u001b[0m, in \u001b[0;36mJob.result\u001b[0;34m(self, timeout)\u001b[0m\n\u001b[1;32m   1116\u001b[0m \u001b[39mdef\u001b[39;00m \u001b[39mresult\u001b[39m(\u001b[39mself\u001b[39m, timeout: \u001b[39mfloat\u001b[39m \u001b[39m|\u001b[39m \u001b[39mNone\u001b[39;00m \u001b[39m=\u001b[39m \u001b[39mNone\u001b[39;00m) \u001b[39m-\u001b[39m\u001b[39m>\u001b[39m Any:\n\u001b[1;32m   1117\u001b[0m \u001b[39m    \u001b[39m\u001b[39m\"\"\"\u001b[39;00m\n\u001b[1;32m   1118\u001b[0m \u001b[39m    Return the result of the call that the future represents. Raises CancelledError: If the future was cancelled, TimeoutError: If the future didn't finish executing before the given timeout, and Exception: If the call raised then that exception will be raised.\u001b[39;00m\n\u001b[1;32m   1119\u001b[0m \n\u001b[0;32m   (...)\u001b[0m\n\u001b[1;32m   1129\u001b[0m \u001b[39m        >> 9\u001b[39;00m\n\u001b[1;32m   1130\u001b[0m \u001b[39m    \"\"\"\u001b[39;00m\n\u001b[0;32m-> 1131\u001b[0m     \u001b[39mreturn\u001b[39;00m \u001b[39msuper\u001b[39;49m()\u001b[39m.\u001b[39;49mresult(timeout\u001b[39m=\u001b[39;49mtimeout)\n",
      "File \u001b[0;32m/usr/lib/python3.11/concurrent/futures/_base.py:449\u001b[0m, in \u001b[0;36mFuture.result\u001b[0;34m(self, timeout)\u001b[0m\n\u001b[1;32m    447\u001b[0m     \u001b[39mraise\u001b[39;00m CancelledError()\n\u001b[1;32m    448\u001b[0m \u001b[39melif\u001b[39;00m \u001b[39mself\u001b[39m\u001b[39m.\u001b[39m_state \u001b[39m==\u001b[39m FINISHED:\n\u001b[0;32m--> 449\u001b[0m     \u001b[39mreturn\u001b[39;00m \u001b[39mself\u001b[39;49m\u001b[39m.\u001b[39;49m__get_result()\n\u001b[1;32m    451\u001b[0m \u001b[39mself\u001b[39m\u001b[39m.\u001b[39m_condition\u001b[39m.\u001b[39mwait(timeout)\n\u001b[1;32m    453\u001b[0m \u001b[39mif\u001b[39;00m \u001b[39mself\u001b[39m\u001b[39m.\u001b[39m_state \u001b[39min\u001b[39;00m [CANCELLED, CANCELLED_AND_NOTIFIED]:\n",
      "File \u001b[0;32m/usr/lib/python3.11/concurrent/futures/_base.py:401\u001b[0m, in \u001b[0;36mFuture.__get_result\u001b[0;34m(self)\u001b[0m\n\u001b[1;32m    399\u001b[0m \u001b[39mif\u001b[39;00m \u001b[39mself\u001b[39m\u001b[39m.\u001b[39m_exception:\n\u001b[1;32m    400\u001b[0m     \u001b[39mtry\u001b[39;00m:\n\u001b[0;32m--> 401\u001b[0m         \u001b[39mraise\u001b[39;00m \u001b[39mself\u001b[39m\u001b[39m.\u001b[39m_exception\n\u001b[1;32m    402\u001b[0m     \u001b[39mfinally\u001b[39;00m:\n\u001b[1;32m    403\u001b[0m         \u001b[39m# Break a reference cycle with the exception in self._exception\u001b[39;00m\n\u001b[1;32m    404\u001b[0m         \u001b[39mself\u001b[39m \u001b[39m=\u001b[39m \u001b[39mNone\u001b[39;00m\n",
      "File \u001b[0;32m/usr/lib/python3.11/concurrent/futures/thread.py:58\u001b[0m, in \u001b[0;36m_WorkItem.run\u001b[0;34m(self)\u001b[0m\n\u001b[1;32m     55\u001b[0m     \u001b[39mreturn\u001b[39;00m\n\u001b[1;32m     57\u001b[0m \u001b[39mtry\u001b[39;00m:\n\u001b[0;32m---> 58\u001b[0m     result \u001b[39m=\u001b[39m \u001b[39mself\u001b[39;49m\u001b[39m.\u001b[39;49mfn(\u001b[39m*\u001b[39;49m\u001b[39mself\u001b[39;49m\u001b[39m.\u001b[39;49margs, \u001b[39m*\u001b[39;49m\u001b[39m*\u001b[39;49m\u001b[39mself\u001b[39;49m\u001b[39m.\u001b[39;49mkwargs)\n\u001b[1;32m     59\u001b[0m \u001b[39mexcept\u001b[39;00m \u001b[39mBaseException\u001b[39;00m \u001b[39mas\u001b[39;00m exc:\n\u001b[1;32m     60\u001b[0m     \u001b[39mself\u001b[39m\u001b[39m.\u001b[39mfuture\u001b[39m.\u001b[39mset_exception(exc)\n",
      "File \u001b[0;32m~/Projects/listen-write/env/lib/python3.11/site-packages/gradio_client/client.py:797\u001b[0m, in \u001b[0;36mEndpoint.make_end_to_end_fn.<locals>._inner\u001b[0;34m(*data)\u001b[0m\n\u001b[1;32m    795\u001b[0m data \u001b[39m=\u001b[39m \u001b[39mself\u001b[39m\u001b[39m.\u001b[39minsert_state(\u001b[39m*\u001b[39mdata)\n\u001b[1;32m    796\u001b[0m \u001b[39mif\u001b[39;00m \u001b[39mself\u001b[39m\u001b[39m.\u001b[39mclient\u001b[39m.\u001b[39mserialize:\n\u001b[0;32m--> 797\u001b[0m     data \u001b[39m=\u001b[39m \u001b[39mself\u001b[39;49m\u001b[39m.\u001b[39;49mserialize(\u001b[39m*\u001b[39;49mdata)\n\u001b[1;32m    798\u001b[0m predictions \u001b[39m=\u001b[39m _predict(\u001b[39m*\u001b[39mdata)\n\u001b[1;32m    799\u001b[0m predictions \u001b[39m=\u001b[39m \u001b[39mself\u001b[39m\u001b[39m.\u001b[39mprocess_predictions(\u001b[39m*\u001b[39mpredictions)\n",
      "File \u001b[0;32m~/Projects/listen-write/env/lib/python3.11/site-packages/gradio_client/client.py:956\u001b[0m, in \u001b[0;36mEndpoint.serialize\u001b[0;34m(self, *data)\u001b[0m\n\u001b[1;32m    954\u001b[0m \u001b[39mdef\u001b[39;00m \u001b[39mserialize\u001b[39m(\u001b[39mself\u001b[39m, \u001b[39m*\u001b[39mdata) \u001b[39m-\u001b[39m\u001b[39m>\u001b[39m \u001b[39mtuple\u001b[39m:\n\u001b[1;32m    955\u001b[0m     \u001b[39mif\u001b[39;00m \u001b[39mlen\u001b[39m(data) \u001b[39m!=\u001b[39m \u001b[39mlen\u001b[39m(\u001b[39mself\u001b[39m\u001b[39m.\u001b[39mserializers):\n\u001b[0;32m--> 956\u001b[0m         \u001b[39mraise\u001b[39;00m \u001b[39mValueError\u001b[39;00m(\n\u001b[1;32m    957\u001b[0m             \u001b[39mf\u001b[39m\u001b[39m\"\u001b[39m\u001b[39mExpected \u001b[39m\u001b[39m{\u001b[39;00m\u001b[39mlen\u001b[39m(\u001b[39mself\u001b[39m\u001b[39m.\u001b[39mserializers)\u001b[39m}\u001b[39;00m\u001b[39m arguments, got \u001b[39m\u001b[39m{\u001b[39;00m\u001b[39mlen\u001b[39m(data)\u001b[39m}\u001b[39;00m\u001b[39m\"\u001b[39m\n\u001b[1;32m    958\u001b[0m         )\n\u001b[1;32m    960\u001b[0m     files \u001b[39m=\u001b[39m [\n\u001b[1;32m    961\u001b[0m         f\n\u001b[1;32m    962\u001b[0m         \u001b[39mfor\u001b[39;00m f, t \u001b[39min\u001b[39;00m \u001b[39mzip\u001b[39m(data, \u001b[39mself\u001b[39m\u001b[39m.\u001b[39minput_component_types)\n\u001b[1;32m    963\u001b[0m         \u001b[39mif\u001b[39;00m t \u001b[39min\u001b[39;00m [\u001b[39m\"\u001b[39m\u001b[39mfile\u001b[39m\u001b[39m\"\u001b[39m, \u001b[39m\"\u001b[39m\u001b[39muploadbutton\u001b[39m\u001b[39m\"\u001b[39m]\n\u001b[1;32m    964\u001b[0m     ]\n\u001b[1;32m    965\u001b[0m     uploaded_files \u001b[39m=\u001b[39m \u001b[39mself\u001b[39m\u001b[39m.\u001b[39m_upload(files)\n",
      "\u001b[0;31mValueError\u001b[0m: Expected 7 arguments, got 6"
     ]
    }
   ],
   "source": [
    "from gradio_client import Client\n",
    "\n",
    "client = Client(\"https://yuangongfdu-whisper-at.hf.space/\")\n",
    "result = client.predict(\n",
    "\t\t\t\t\"https://github.com/gradio-app/gradio/raw/main/test/test_files/audio_sample.wav\",\t# str (filepath or URL to file) in 'Please either upload an audio file or record using the microphone.' Audio component\n",
    "\t\t\t\t# \"https://github.com/gradio-app/gradio/raw/main/test/test_files/audio_sample.wav\",\t# str (filepath or URL to file) in 'audio_path_t' Audio component\n",
    "                #\"http://197.248.0.197:8080/1261d51bb09447f3f21f4f4d07955d02.mp3\"\n",
    "\t\t\t\t\"tiny\",\t# str  in 'Model size' Radio component\n",
    "\t\t\t\t\"Auto Detection\",\t# str  in 'Language' Radio component\n",
    "\t\t\t\t1,\t# int | float (numeric value between 1 and 10) in 'Top-K' Slider component\n",
    "\t\t\t\t-10,\t# int | float (numeric value between -10 and 0) in 'Prediction Threshold' Slider component\n",
    "\t\t\t\t\"Howdy!\",\t# str  in 'Time Resolution in Seconds (Must be must be an integer multiple of 0.4, e.g., 0.4, 2, 10)' Textbox component\n",
    "\t\t\t\tapi_name=\"/predict\"\n",
    ")\n",
    "print(result)"
   ]
  }
 ],
 "metadata": {
  "kernelspec": {
   "display_name": "env",
   "language": "python",
   "name": "python3"
  },
  "language_info": {
   "codemirror_mode": {
    "name": "ipython",
    "version": 3
   },
   "file_extension": ".py",
   "mimetype": "text/x-python",
   "name": "python",
   "nbconvert_exporter": "python",
   "pygments_lexer": "ipython3",
   "version": "3.11.4"
  }
 },
 "nbformat": 4,
 "nbformat_minor": 2
}
