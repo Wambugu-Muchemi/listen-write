{
 "cells": [
  {
   "cell_type": "code",
   "execution_count": 1,
   "metadata": {},
   "outputs": [],
   "source": [
    "from langchain.prompts import ChatPromptTemplate\n",
    "\n",
    "template = \"\"\"Based on the table schema below, write a SQL query that would answer the user's question:\n",
    "{schema}\n",
    "\n",
    "Question: {question}\n",
    "SQL Query:\"\"\"\n",
    "prompt = ChatPromptTemplate.from_template(template)"
   ]
  },
  {
   "cell_type": "code",
   "execution_count": 2,
   "metadata": {},
   "outputs": [],
   "source": [
    "from langchain.utilities import SQLDatabase"
   ]
  },
  {
   "cell_type": "code",
   "execution_count": 3,
   "metadata": {},
   "outputs": [],
   "source": [
    "db = SQLDatabase.from_uri(\"sqlite:///./transcriptions.db\")"
   ]
  },
  {
   "cell_type": "code",
   "execution_count": 4,
   "metadata": {},
   "outputs": [],
   "source": [
    "def get_schema(_):\n",
    "    return db.get_table_info()"
   ]
  },
  {
   "cell_type": "code",
   "execution_count": 5,
   "metadata": {},
   "outputs": [],
   "source": [
    "def run_query(query):\n",
    "    return db.run(query)"
   ]
  },
  {
   "cell_type": "code",
   "execution_count": 6,
   "metadata": {},
   "outputs": [],
   "source": [
    "from langchain.chat_models import ChatOpenAI\n",
    "from langchain.schema.output_parser import StrOutputParser\n",
    "from langchain.schema.runnable import RunnablePassthrough\n",
    "\n",
    "model = ChatOpenAI()\n",
    "\n",
    "sql_response = (\n",
    "        RunnablePassthrough.assign(schema=get_schema)\n",
    "        | prompt\n",
    "        | model.bind(stop=[\"\\nSQLResult:\"])\n",
    "        | StrOutputParser()\n",
    "    )"
   ]
  },
  {
   "cell_type": "code",
   "execution_count": 7,
   "metadata": {},
   "outputs": [
    {
     "data": {
      "text/plain": [
       "\"SELECT id, date, source_url, transcription, summary, issue_category, contact\\nFROM transcriptions\\nWHERE summary LIKE '%subscription activation%' OR summary LIKE '%confirming their number%'\""
      ]
     },
     "execution_count": 7,
     "metadata": {},
     "output_type": "execute_result"
    }
   ],
   "source": [
    "sql_response.invoke({\"question\": \"\"})"
   ]
  },
  {
   "cell_type": "code",
   "execution_count": 8,
   "metadata": {},
   "outputs": [],
   "source": [
    "template = \"\"\"Based on the table schema below, question, sql query, and sql response, write a natural language response:\n",
    "{schema}\n",
    "\n",
    "Question: {question}\n",
    "SQL Query: {query}\n",
    "SQL Response: {response}\"\"\"\n",
    "prompt_response = ChatPromptTemplate.from_template(template)"
   ]
  },
  {
   "cell_type": "code",
   "execution_count": 9,
   "metadata": {},
   "outputs": [],
   "source": [
    "full_chain = (\n",
    "    RunnablePassthrough.assign(query=sql_response) \n",
    "    | RunnablePassthrough.assign(\n",
    "        schema=get_schema,\n",
    "        response=lambda x: db.run(x[\"query\"]),\n",
    "    )\n",
    "    | prompt_response \n",
    "    | model\n",
    ")"
   ]
  },
  {
   "cell_type": "code",
   "execution_count": 10,
   "metadata": {},
   "outputs": [
    {
     "name": "stdout",
     "output_type": "stream",
     "text": [
      "AIMessage(content='The SQL query \"SELECT summary FROM transcriptions WHERE issue_category = \\'Other\\'\" retrieves the summary column from the transcriptions table where the issue_category is \\'Other\\'. The SQL response provides a list of summaries that match the query. These summaries describe various customer issues and interactions with the customer care representatives. Some examples include customers asking about subscription activation, trouble with internet connection, and accessing internet packages. The responses from the representatives vary depending on the specific issue raised by the customers.')\n"
     ]
    }
   ],
   "source": [
    "ans = full_chain.invoke({\"question\": \"\"})\n",
    "import pprint\n",
    "from pprint import pprint\n",
    "pprint(ans)"
   ]
  },
  {
   "cell_type": "code",
   "execution_count": 11,
   "metadata": {},
   "outputs": [
    {
     "name": "stdout",
     "output_type": "stream",
     "text": [
      "AIMessage(content='Based on the given table schema, there are no angry customers in the transcriptions table. The SQL query was executed and the response shows that there are zero occurrences of the word \"angry\" in the transcription or summary columns.')\n"
     ]
    }
   ],
   "source": [
    "ans = full_chain.invoke({\"question\": \"do we have angry customers?\"})\n",
    "import pprint\n",
    "from pprint import pprint\n",
    "pprint(ans)"
   ]
  },
  {
   "cell_type": "code",
   "execution_count": 12,
   "metadata": {},
   "outputs": [
    {
     "name": "stdout",
     "output_type": "stream",
     "text": [
      "AIMessage(content='There are 61 rows in the \"transcriptions\" table.')\n"
     ]
    }
   ],
   "source": [
    "ans = full_chain.invoke({\"question\": \"how many?\"})\n",
    "import pprint\n",
    "from pprint import pprint\n",
    "pprint(ans)"
   ]
  },
  {
   "cell_type": "code",
   "execution_count": 13,
   "metadata": {},
   "outputs": [],
   "source": [
    "#Lets Create a function out of the process\n",
    "def sqlhandler(sqlfield):\n",
    "    see = sql_response.invoke({\"question\": sqlfield})\n",
    "    print(see)\n",
    "    template = \"\"\"Based on the table schema below, question, sql query, and sql response, write a natural language response:\n",
    "    {schema}\n",
    "\n",
    "    Question: {question}\n",
    "    SQL Query: {query}\n",
    "    SQL Response: {response}\"\"\"\n",
    "    prompt_response = ChatPromptTemplate.from_template(template)\n",
    "\n",
    "    full_chain = (\n",
    "    RunnablePassthrough.assign(query=sql_response) \n",
    "    | RunnablePassthrough.assign(\n",
    "        schema=get_schema,\n",
    "        response=lambda x: db.run(x[\"query\"]),\n",
    "    )\n",
    "    | prompt_response \n",
    "    | model\n",
    "    )\n",
    "\n"
   ]
  },
  {
   "cell_type": "code",
   "execution_count": 14,
   "metadata": {},
   "outputs": [
    {
     "name": "stdout",
     "output_type": "stream",
     "text": [
      "SELECT id, date, source_url, transcription, summary, issue_category, contact\n",
      "FROM transcriptions\n",
      "WHERE id = 2\n",
      "AIMessage(content='The SQL query SELECTs the values of id, date, source_url, transcription, summary, issue_category, and contact from the transcriptions table WHERE the id is equal to 1. The SQL response returns a single row with the id, date, source URL, transcription, summary, issue category, and contact information for the transcription with an id of 1. The transcription text includes the customer\\'s question about their subscription activation and confirming their number, and the customer care representative\\'s response confirming the WhatsApp payment and asking for the customer\\'s number. The issue category is marked as \"Other\" and there is no specific contact information provided.')\n"
     ]
    }
   ],
   "source": [
    "sqlfield = \"\" #Which table or column do you want to focus on\n",
    "sqlhandler(sqlfield)\n",
    "#Ask questions based on the mentioned field\n",
    "ans = full_chain.invoke({\"question\": \"\"})\n",
    "import pprint\n",
    "from pprint import pprint\n",
    "pprint(ans)"
   ]
  },
  {
   "cell_type": "code",
   "execution_count": 17,
   "metadata": {},
   "outputs": [],
   "source": []
  }
 ],
 "metadata": {
  "kernelspec": {
   "display_name": "env",
   "language": "python",
   "name": "python3"
  },
  "language_info": {
   "codemirror_mode": {
    "name": "ipython",
    "version": 3
   },
   "file_extension": ".py",
   "mimetype": "text/x-python",
   "name": "python",
   "nbconvert_exporter": "python",
   "pygments_lexer": "ipython3",
   "version": "3.11.4"
  }
 },
 "nbformat": 4,
 "nbformat_minor": 2
}
