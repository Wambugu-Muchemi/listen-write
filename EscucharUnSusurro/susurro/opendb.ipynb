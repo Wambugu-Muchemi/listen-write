{
 "cells": [
  {
   "cell_type": "code",
   "execution_count": null,
   "metadata": {},
   "outputs": [],
   "source": [
    "from langchain.prompts import ChatPromptTemplate\n",
    "\n",
    "template = \"\"\"Based on the table schema below, write a SQL query that would answer the user's question:\n",
    "{schema}\n",
    "\n",
    "Question: {question}\n",
    "SQL Query:\"\"\"\n",
    "prompt = ChatPromptTemplate.from_template(template)"
   ]
  },
  {
   "cell_type": "code",
   "execution_count": null,
   "metadata": {},
   "outputs": [],
   "source": [
    "from langchain.utilities import SQLDatabase"
   ]
  },
  {
   "cell_type": "code",
   "execution_count": null,
   "metadata": {},
   "outputs": [],
   "source": [
    "db = SQLDatabase.from_uri(\"sqlite:///./transcriptions.db\")"
   ]
  },
  {
   "cell_type": "code",
   "execution_count": null,
   "metadata": {},
   "outputs": [],
   "source": [
    "def get_schema(_):\n",
    "    return db.get_table_info()"
   ]
  },
  {
   "cell_type": "code",
   "execution_count": null,
   "metadata": {},
   "outputs": [],
   "source": [
    "def run_query(query):\n",
    "    return db.run(query)"
   ]
  },
  {
   "cell_type": "code",
   "execution_count": null,
   "metadata": {},
   "outputs": [],
   "source": [
    "from langchain.chat_models import ChatOpenAI\n",
    "from langchain.schema.output_parser import StrOutputParser\n",
    "from langchain.schema.runnable import RunnablePassthrough\n",
    "\n",
    "model = ChatOpenAI()\n",
    "\n",
    "sql_response = (\n",
    "        RunnablePassthrough.assign(schema=get_schema)\n",
    "        | prompt\n",
    "        | model.bind(stop=[\"\\nSQLResult:\"])\n",
    "        | StrOutputParser()\n",
    "    )"
   ]
  },
  {
   "cell_type": "code",
   "execution_count": 62,
   "metadata": {},
   "outputs": [
    {
     "data": {
      "text/plain": [
       "\"UPDATE transcriptions\\nSET issue_category = \\n    CASE \\n        WHEN summary = '' THEN \\n            CASE \\n                WHEN transcription LIKE '%subscription activation%' THEN 'Product Enquiry'\\n                WHEN transcription LIKE '%internet connection%' THEN 'Router Installation'\\n                WHEN transcription LIKE '%log in%' THEN 'Change / Add Device'\\n                WHEN transcription LIKE '%internet package%' THEN 'Product Enquiry'\\n                ELSE 'Other'\\n            END\\n        ELSE issue_category\\n    END\""
      ]
     },
     "execution_count": 62,
     "metadata": {},
     "output_type": "execute_result"
    }
   ],
   "source": [
    "sql_response.invoke({\"question\": \"based on summary given on summary column if its empty recheck summary and change the issue_category column with either Router Installation , Change / Add Device ,Product Enquiry ,TV Connection ,SMS Code Issue ,Payment Issue\"})"
   ]
  },
  {
   "cell_type": "code",
   "execution_count": null,
   "metadata": {},
   "outputs": [],
   "source": [
    "template = \"\"\"Based on the table schema below, question, sql query, and sql response, write a natural language response:\n",
    "{schema}\n",
    "\n",
    "Question: {question}\n",
    "SQL Query: {query}\n",
    "SQL Response: {response}\"\"\"\n",
    "prompt_response = ChatPromptTemplate.from_template(template)"
   ]
  },
  {
   "cell_type": "code",
   "execution_count": null,
   "metadata": {},
   "outputs": [],
   "source": [
    "full_chain = (\n",
    "    RunnablePassthrough.assign(query=sql_response) \n",
    "    | RunnablePassthrough.assign(\n",
    "        schema=get_schema,\n",
    "        response=lambda x: db.run(x[\"query\"]),\n",
    "    )\n",
    "    | prompt_response \n",
    "    | model\n",
    ")"
   ]
  },
  {
   "cell_type": "code",
   "execution_count": null,
   "metadata": {},
   "outputs": [],
   "source": [
    "ans = full_chain.invoke({\"question\": \"based on summary given on summary column if its empty recheck summary and change the issue_category column with either Router Installation , Change / Add Device ,Product Enquiry ,TV Connection ,SMS Code Issue ,Payment Issue\"})\n",
    "import pprint\n",
    "from pprint import pprint\n",
    "pprint(ans)"
   ]
  },
  {
   "cell_type": "code",
   "execution_count": null,
   "metadata": {},
   "outputs": [],
   "source": [
    "ans = full_chain.invoke({\"question\": \"do we have angry customers?\"})\n",
    "import pprint\n",
    "from pprint import pprint\n",
    "pprint(ans)"
   ]
  },
  {
   "cell_type": "code",
   "execution_count": null,
   "metadata": {},
   "outputs": [],
   "source": [
    "ans = full_chain.invoke({\"question\": \"how many?\"})\n",
    "import pprint\n",
    "from pprint import pprint\n",
    "pprint(ans)"
   ]
  },
  {
   "cell_type": "code",
   "execution_count": null,
   "metadata": {},
   "outputs": [],
   "source": [
    "#Lets Create a function out of the process\n",
    "def sqlhandler(sqlfield):\n",
    "    see = sql_response.invoke({\"question\": sqlfield})\n",
    "    print(see)\n",
    "    template = \"\"\"Based on the table schema below, question, sql query, and sql response, write a natural language response:\n",
    "    {schema}\n",
    "\n",
    "    Question: {question}\n",
    "    SQL Query: {query}\n",
    "    SQL Response: {response}\"\"\"\n",
    "    prompt_response = ChatPromptTemplate.from_template(template)\n",
    "\n",
    "    full_chain = (\n",
    "    RunnablePassthrough.assign(query=sql_response) \n",
    "    | RunnablePassthrough.assign(\n",
    "        schema=get_schema,\n",
    "        response=lambda x: db.run(x[\"query\"]),\n",
    "    )\n",
    "    | prompt_response \n",
    "    | model\n",
    "    )\n",
    "\n"
   ]
  },
  {
   "cell_type": "code",
   "execution_count": null,
   "metadata": {},
   "outputs": [],
   "source": [
    "sqlfield = \"based on summary given on summary column if its NULL recheck summary and change the issue_category column with either Router Installation , Change / Add Device ,Product Enquiry ,TV Connection ,SMS Code Issue ,Payment Issue\" #Which table or column do you want to focus on\n",
    "sqlhandler(sqlfield)\n",
    "#Ask questions based on the mentioned field\n",
    "ans = full_chain.invoke({\"question\": \"based on summary given on summary column if its NULL recheck summary and change the issue_category column with either Router Installation , Change / Add Device ,Product Enquiry ,TV Connection ,SMS Code Issue ,Payment Issue   execute the query\"})\n",
    "import pprint\n",
    "from pprint import pprint\n",
    "pprint(ans)"
   ]
  }
 ],
 "metadata": {
  "kernelspec": {
   "display_name": "env",
   "language": "python",
   "name": "python3"
  },
  "language_info": {
   "codemirror_mode": {
    "name": "ipython",
    "version": 3
   },
   "file_extension": ".py",
   "mimetype": "text/x-python",
   "name": "python",
   "nbconvert_exporter": "python",
   "pygments_lexer": "ipython3",
   "version": "3.11.4"
  }
 },
 "nbformat": 4,
 "nbformat_minor": 2
}
